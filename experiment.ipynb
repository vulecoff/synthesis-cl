{
 "cells": [
  {
   "cell_type": "markdown",
   "metadata": {},
   "source": [
    "https://pytorch.org/tutorials/beginner/basics/data_tutorial.html\n",
    "\n",
    "https://jaswdr.dev/posts/perceptron/\n",
    "\n",
    "https://www.mldawn.com/train-a-perceptron-to-learn-the-and-gate-from-scratch-in-python/ has cool plots"
   ]
  },
  {
   "cell_type": "markdown",
   "metadata": {},
   "source": [
    "https://www.softwaretestinghelp.com/neural-network-learning-rules/ Hebbian"
   ]
  },
  {
   "cell_type": "markdown",
   "metadata": {},
   "source": [
    "Experiments of Single Layer\n",
    "- hidden layer of size 2 doesn't work, but size 3 works. "
   ]
  },
  {
   "cell_type": "markdown",
   "metadata": {},
   "source": [
    "A neural network N = Arch{layers_dimension & connectedness, weights, aggregation + activation} \n",
    "                    + Learning{loss_function, optimization_algorithm, batch_size, learning_rate, epochs} \n",
    "                    + other patches{dropouts, pooling_size,}"
   ]
  },
  {
   "cell_type": "markdown",
   "metadata": {},
   "source": [
    "0, 1 --> 0\n",
    "0, 0 --> 1\n",
    "1, 0 --> 0\n",
    "1, 1, --> 1"
   ]
  },
  {
   "cell_type": "code",
   "execution_count": 21,
   "metadata": {},
   "outputs": [],
   "source": [
    "XOR = [ # xor\n",
    "    ([0, 0, 1], 0), \n",
    "    ([0, 0, 0], 1), \n",
    "    ([0, 1, 0], 0), \n",
    "    ([0, 1, 1], 1), \n",
    "    ([1, 0, 1], 1), \n",
    "    ([1, 0, 0], 0), \n",
    "    ([1, 1, 0], 1), \n",
    "    ([1, 1, 1], 0)\n",
    "]\n",
    "\n",
    "AND = [\n",
    "    ([0, 0, 1], 0), \n",
    "    ([0, 0, 0], 1),\n",
    "    ([0, 1, 0],1), \n",
    "    ([0, 1, 1], 0),\n",
    "    ([1, 0, 0], 1), \n",
    "    ([1, 0, 1], 0),\n",
    "    ([1, 1, 1], 1), \n",
    "    ([1, 1, 0], 0)\n",
    "]\n",
    "\n",
    "XOR_BINARY = [\n",
    "    ([0, 0], 0),\n",
    "    ([0, 1], 1),\n",
    "    ([1, 0], 1), \n",
    "    ([1, 1], 0)\n",
    "]\n",
    "NOT = [([0], 1), ([1], 0)]\n"
   ]
  },
  {
   "cell_type": "code",
   "execution_count": null,
   "metadata": {},
   "outputs": [],
   "source": [
    "import matplotlib.pyplot as plt\n",
    "%matplotlib inline\n",
    "%matplotlib widget\n",
    "from basic_models import * \n",
    "def main():\n",
    "    torch.manual_seed(30)\n",
    "    X, y= build_dataset(XOR_BINARY)\n",
    "    model = SingleLayer(2, 2)\n",
    "    losses = train(model, X, y, epochs=8000, lr=0.05)\n",
    "    test(model, X, y)\n",
    "    for name, param in model.named_parameters():\n",
    "        print(name, param)\n",
    "    \n",
    "    fig, ax = plt.subplots()\n",
    "    ax.plot(range(len(losses)),losses)\n",
    "\n",
    "main()"
   ]
  },
  {
   "cell_type": "code",
   "execution_count": 8,
   "metadata": {},
   "outputs": [
    {
     "ename": "ValueError",
     "evalue": "matmul: Input operand 1 has a mismatch in its core dimension 0, with gufunc signature (n?,k),(k,m?)->(n?,m?) (size 3 is different from 1)",
     "output_type": "error",
     "traceback": [
      "\u001b[1;31m---------------------------------------------------------------------------\u001b[0m",
      "\u001b[1;31mValueError\u001b[0m                                Traceback (most recent call last)",
      "Cell \u001b[1;32mIn[8], line 17\u001b[0m\n\u001b[0;32m     15\u001b[0m a \u001b[38;5;241m=\u001b[39m np\u001b[38;5;241m.\u001b[39mones((\u001b[38;5;241m2\u001b[39m, \u001b[38;5;241m2\u001b[39m, \u001b[38;5;241m2\u001b[39m, \u001b[38;5;241m1\u001b[39m))\n\u001b[0;32m     16\u001b[0m b \u001b[38;5;241m=\u001b[39m np\u001b[38;5;241m.\u001b[39mones((\u001b[38;5;241m3\u001b[39m, \u001b[38;5;241m4\u001b[39m))\n\u001b[1;32m---> 17\u001b[0m c \u001b[38;5;241m=\u001b[39m \u001b[43ma\u001b[49m\u001b[43m \u001b[49m\u001b[38;5;241;43m@\u001b[39;49m\u001b[43m \u001b[49m\u001b[43mb\u001b[49m \n\u001b[0;32m     18\u001b[0m \u001b[38;5;28mprint\u001b[39m(c)\n",
      "\u001b[1;31mValueError\u001b[0m: matmul: Input operand 1 has a mismatch in its core dimension 0, with gufunc signature (n?,k),(k,m?)->(n?,m?) (size 3 is different from 1)"
     ]
    }
   ],
   "source": [
    "import numpy as np\n",
    "\n",
    "def net(ip): \n",
    "    fc1_w = np.array([[-1, 1], [-1, 1]],dtype=np.float32)\n",
    "    fc1_b = np.array([-1.5, 0.5])\n",
    "    fc2_w = np.array([-1.5, 0.5])\n",
    "    fc2_b = np.array([1.5])\n",
    "    op1 = ip @ fc1_w + fc1_b\n",
    "    op2 = op1 @ fc2_w + fc2_b\n",
    "    return op2\n",
    "\n",
    "# ip = np.array([[0, 0], [0, 1], [1, 0], [1, 1]])\n",
    "# print(net(ip))\n",
    "\n",
    "a = np.ones((2, 2, 2, 1))\n",
    "b = np.ones((3, 4))\n",
    "c = a @ b \n",
    "print(c)"
   ]
  }
 ],
 "metadata": {
  "kernelspec": {
   "display_name": "ml-nlp",
   "language": "python",
   "name": "python3"
  },
  "language_info": {
   "codemirror_mode": {
    "name": "ipython",
    "version": 3
   },
   "file_extension": ".py",
   "mimetype": "text/x-python",
   "name": "python",
   "nbconvert_exporter": "python",
   "pygments_lexer": "ipython3",
   "version": "3.10.14"
  }
 },
 "nbformat": 4,
 "nbformat_minor": 2
}
